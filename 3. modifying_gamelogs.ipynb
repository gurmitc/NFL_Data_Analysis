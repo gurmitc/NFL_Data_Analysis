{
 "cells": [
  {
   "cell_type": "code",
   "execution_count": 57,
   "id": "464f63e9-016a-45d7-80dc-c7dd8652914a",
   "metadata": {},
   "outputs": [],
   "source": [
    "import pandas as pd"
   ]
  },
  {
   "cell_type": "code",
   "execution_count": 58,
   "id": "93c6cdfb-e527-47f1-893c-b40a8d9b1db4",
   "metadata": {},
   "outputs": [],
   "source": [
    "nfl_df = pd.read_csv('nfl_gamelogs_2016-2024.csv')"
   ]
  },
  {
   "cell_type": "code",
   "execution_count": 59,
   "id": "d1dd45d0-74f5-42e0-ae9b-3cb5c851380c",
   "metadata": {},
   "outputs": [
    {
     "name": "stdout",
     "output_type": "stream",
     "text": [
      "74\n"
     ]
    }
   ],
   "source": [
    "print(nfl_df.shape[1])"
   ]
  },
  {
   "cell_type": "code",
   "execution_count": 60,
   "id": "923b571b-6c2b-44c0-b740-6b35322a7ca0",
   "metadata": {},
   "outputs": [],
   "source": [
    "#dictionary for new column names\n",
    "column_names = {'Unnamed: 4':'Result', 'Unnamed: 6': 'Home', 'Tm': 'Pts_F', 'Opp.1': 'Pts_A', \n",
    "               'Att.1':'Rsh_Att','Yds.2':'Rsh_Yds', 'Y/A.1':'Rsh_Y/A', 'TD.1':'Rsh_TD', 'Yds.3':'Pnt_Yds'}"
   ]
  },
  {
   "cell_type": "code",
   "execution_count": 61,
   "id": "b2c906cc-e723-4b04-b512-0f895dcc1ecc",
   "metadata": {},
   "outputs": [],
   "source": [
    "#renaming dataframe's select column names\n",
    "nfl_df = nfl_df.rename(columns = column_names)"
   ]
  },
  {
   "cell_type": "code",
   "execution_count": 83,
   "id": "fb63a19b-8843-417a-b003-9d26c03af736",
   "metadata": {},
   "outputs": [
    {
     "data": {
      "text/plain": [
       "array(['boxscore', 'preview'], dtype=object)"
      ]
     },
     "execution_count": 83,
     "metadata": {},
     "output_type": "execute_result"
    }
   ],
   "source": [
    "#viewing the unique values in the 'Unnamed 3:' column\n",
    "nfl_df['Unnamed: 3'].unique()"
   ]
  },
  {
   "cell_type": "code",
   "execution_count": 84,
   "id": "1caac97f-80b9-4c7a-bf1f-b367139228df",
   "metadata": {},
   "outputs": [],
   "source": [
    "#removing the rows with 'preview' as 'Unnamed 3:' value. This indicates a future game\n",
    "nfl_df = nfl_df[nfl_df['Unnamed: 3'] =='boxscore']"
   ]
  },
  {
   "cell_type": "code",
   "execution_count": 86,
   "id": "e7127635-f107-451f-b756-eda4db71d9de",
   "metadata": {},
   "outputs": [],
   "source": [
    "#copying dataframe to keep progress\n",
    "nfl_df2= nfl_df"
   ]
  },
  {
   "cell_type": "code",
   "execution_count": 87,
   "id": "bc657e5a-c5bb-4e11-aee1-7e9b3fcbf77b",
   "metadata": {},
   "outputs": [],
   "source": [
    "#dropping irrelevant data\n",
    "nfl_df2 = nfl_df2.drop(nfl_df2.columns[5], axis=1)\n",
    "nfl_df2 = nfl_df2.drop(nfl_df2.columns[17], axis=1)\n",
    "nfl_df2 = nfl_df2.drop(nfl_df2.columns[36:46], axis=1)\n",
    "nfl_df2 = nfl_df2.drop(nfl_df2.columns[42], axis=1)"
   ]
  },
  {
   "cell_type": "code",
   "execution_count": 88,
   "id": "e07fab2e-e32a-4242-813a-97d51a60345b",
   "metadata": {},
   "outputs": [],
   "source": [
    "#copying dataframe to keep progress\n",
    "nfl_df3=nfl_df2"
   ]
  },
  {
   "cell_type": "code",
   "execution_count": 89,
   "id": "44f9dbf3-b689-4e24-913f-16c1e66813ff",
   "metadata": {},
   "outputs": [],
   "source": [
    "#marking columns that contain opponent stats\n",
    "opp_cols = nfl_df3.columns[36:]"
   ]
  },
  {
   "cell_type": "code",
   "execution_count": 90,
   "id": "ac95f0ce-ad24-4edb-9488-81a4138bda6e",
   "metadata": {},
   "outputs": [],
   "source": [
    "#adding prefix 'Opp_' and removing trailing numbers from opponent columns\n",
    "nfl_df3 = nfl_df3.rename(columns={c: 'Opp_'+c[:-2] for c in nfl_df3.columns if c in opp_cols})"
   ]
  },
  {
   "cell_type": "code",
   "execution_count": 91,
   "id": "b079150f-1541-4bd1-8044-0fa6d354d75c",
   "metadata": {},
   "outputs": [],
   "source": [
    "column_names2 = {'Opp_Att.1':'Opp_Rsh_Att','Opp_Yds.2':'Opp_Rsh_Yds', 'Opp_Y/A.1':'Opp_Rsh_Y/A', 'Opp_TD.1':'Opp_Rsh_TD', 'Opp_Yds.3':'Opp_Pnt_Yds', }\n",
    "nfl_df3 = nfl_df3.rename(columns = column_names2)"
   ]
  },
  {
   "cell_type": "code",
   "execution_count": 92,
   "id": "9493f781-3e42-48cb-8175-ee25790a7ba7",
   "metadata": {},
   "outputs": [
    {
     "data": {
      "text/plain": [
       "Index(['Season', 'Team', 'Week', 'Day', 'Date', 'Result', 'OT', 'Home', 'Opp',\n",
       "       'Pts_F', 'Pts_A', 'Cmp', 'Att', 'Yds', 'TD', 'Int', 'Sk', 'Y/A', 'NY/A',\n",
       "       'Cmp%', 'Rate', 'Rsh_Att', 'Rsh_Yds', 'Rsh_Y/A', 'Rsh_TD', 'FGM', 'FGA',\n",
       "       'XPM', 'XPA', 'Pnt', 'Pnt_Yds', '3DConv', '3DAtt', '4DConv', '4DAtt',\n",
       "       'ToP', 'Opp_Cmp', 'Opp_Att', 'Opp_Yds', 'Opp_TD', 'Opp_Int', 'Opp_Sk',\n",
       "       'Opp_Y/A', 'Opp_NY/A', 'Opp_Cmp%', 'Opp_Rate', 'Opp_Rsh_Att',\n",
       "       'Opp_Rsh_Yds', 'Opp_Rsh_Y/A', 'Opp_Rsh_TD', 'Opp_FGM', 'Opp_FGA',\n",
       "       'Opp_XPM', 'Opp_XPA', 'Opp_Pnt', 'Opp_Pnt_Yds', 'Opp_3DConv',\n",
       "       'Opp_3DAtt', 'Opp_4DConv', 'Opp_4DAtt', 'Opp_ToP'],\n",
       "      dtype='object')"
      ]
     },
     "execution_count": 92,
     "metadata": {},
     "output_type": "execute_result"
    }
   ],
   "source": [
    "nfl_df3.columns"
   ]
  },
  {
   "cell_type": "code",
   "execution_count": 93,
   "id": "1dc1b929-053e-435d-a81d-78fc24fda172",
   "metadata": {},
   "outputs": [],
   "source": [
    "#copying dataframe to keep progress\n",
    "nfl_df4 = nfl_df3"
   ]
  },
  {
   "cell_type": "code",
   "execution_count": 94,
   "id": "b32eda84-0f07-4edc-958b-9e3d938a1d7d",
   "metadata": {},
   "outputs": [],
   "source": [
    "#mapping string data to binary (1 or 0)\n",
    "nfl_df4['OT'] = nfl_df4['OT'].apply(lambda x: 1 if x == 'OT' else 0)\n",
    "nfl_df4['Home'] = nfl_df4['Home'].apply(lambda x: 0 if x == '@' else 1)                                    "
   ]
  },
  {
   "cell_type": "code",
   "execution_count": 95,
   "id": "7790c4f1-191f-427a-ba82-8cd32f64decb",
   "metadata": {},
   "outputs": [],
   "source": [
    "#mapping full names to three-letter codes\n",
    "team_dict = {'Arizona Cardinals':'CRD', 'Atlanta Falcons':'ATL', 'Baltimore Ravens':'RAV', 'Buffalo Bills':'BUF', 'Carolina Panthers':'CAR',\n",
    "             'Chicago Bears':'CHI', 'Cincinnati Bengals':'CIN', 'Cleveland Browns':'CLE', 'Dallas Cowboys':'DAL', 'Denver Broncos':'DEN',\n",
    "             'Detroit Lions':'DET', 'Green Bay Packers':'GNB', 'Houston Texans':'HTX', 'Indianapolis Colts':'CLT', 'Jacksonville Jaguars':'JAX',\n",
    "             'Kansas City Chiefs':'KAN', 'Los Angeles Chargers':'SDG', 'Los Angeles Rams':'RAM', 'Las Vegas Raiders':'RAI', 'Miami Dolphins':'MIA',\n",
    "             'Minnesota Vikings':'MIN', 'New England Patriots':'NWE', 'New Orleans Saints':'NOR', 'New York Giants':'NYG', 'New York Jets':'NYJ',\n",
    "             'Philadelphia Eagles':'PHI', 'Pittsburgh Steelers':'PIT', 'St. Louis Rams':'RAM', 'San Diego Chargers':'SDG',\n",
    "             'San Francisco 49ers':'SFO', 'Seattle Seahawks':'SEA', 'Tampa Bay Buccaneers':'TAM', 'Tennessee Titans':'OTI',\n",
    "             'Washington Commanders':'WAS', 'Washington Football Team':'WAS', 'Washington Redskins':'WAS'}\n",
    "nfl_df4 = nfl_df4.replace({'Opp': team_dict})"
   ]
  },
  {
   "cell_type": "code",
   "execution_count": 96,
   "id": "03d785d1-df45-4387-82e3-14dade9f167b",
   "metadata": {},
   "outputs": [],
   "source": [
    "nfl_df4.to_csv('nfl_gamelogs_2016-2024_modified.csv',index=False)"
   ]
  },
  {
   "cell_type": "code",
   "execution_count": 100,
   "id": "831f7033-a41b-455b-9c92-5ce1febb401f",
   "metadata": {},
   "outputs": [
    {
     "data": {
      "text/plain": [
       "(4374, 61)"
      ]
     },
     "execution_count": 100,
     "metadata": {},
     "output_type": "execute_result"
    }
   ],
   "source": [
    "nfl_df4.shape"
   ]
  },
  {
   "cell_type": "code",
   "execution_count": null,
   "id": "d5df4301-2f21-4f40-9c16-0d2038a51326",
   "metadata": {},
   "outputs": [],
   "source": []
  }
 ],
 "metadata": {
  "kernelspec": {
   "display_name": "Python 3 (ipykernel)",
   "language": "python",
   "name": "python3"
  },
  "language_info": {
   "codemirror_mode": {
    "name": "ipython",
    "version": 3
   },
   "file_extension": ".py",
   "mimetype": "text/x-python",
   "name": "python",
   "nbconvert_exporter": "python",
   "pygments_lexer": "ipython3",
   "version": "3.11.4"
  }
 },
 "nbformat": 4,
 "nbformat_minor": 5
}
